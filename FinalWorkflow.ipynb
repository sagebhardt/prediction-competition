{
 "cells": [
  {
   "cell_type": "code",
   "execution_count": 65,
   "metadata": {},
   "outputs": [],
   "source": [
    "import pandas as pd\n",
    "import numpy as np\n",
    "from datetime import datetime\n",
    "import statsmodels.formula.api as smf\n",
    "import statsmodels.api as sm\n",
    "from sklearn.metrics import roc_auc_score, roc_curve,auc\n",
    "from sklearn.tree import DecisionTreeClassifier, plot_tree\n",
    "#import gridsearchcv and lasso and kfold\n",
    "from sklearn.linear_model import LogisticRegression \n",
    "from sklearn.model_selection import KFold\n",
    "from sklearn.model_selection import GridSearchCV\n",
    "from sklearn.linear_model import Lasso\n",
    "import matplotlib.pyplot as plt\n",
    "import seaborn as sns; sns.set(style='whitegrid')\n",
    "# Use GBC to predict the outcome\n",
    "from sklearn.ensemble import GradientBoostingClassifier"
   ]
  },
  {
   "attachments": {},
   "cell_type": "markdown",
   "metadata": {},
   "source": [
    "**Pre-process the data**"
   ]
  },
  {
   "cell_type": "code",
   "execution_count": 101,
   "metadata": {},
   "outputs": [
    {
     "name": "stderr",
     "output_type": "stream",
     "text": [
      "/var/folders/7n/r8rrh9ss6q9b_lyhlmx1x_hw0000gn/T/ipykernel_47169/235163665.py:1: DtypeWarning: Columns (28) have mixed types. Specify dtype option on import or set low_memory=False.\n",
      "  training = pd.read_csv(\"training.csv\")\n",
      "/var/folders/7n/r8rrh9ss6q9b_lyhlmx1x_hw0000gn/T/ipykernel_47169/235163665.py:2: DtypeWarning: Columns (28,139) have mixed types. Specify dtype option on import or set low_memory=False.\n",
      "  test = pd.read_csv(\"test.csv\")\n"
     ]
    }
   ],
   "source": [
    "training = pd.read_csv(\"training.csv\")\n",
    "test = pd.read_csv(\"test.csv\")\n",
    "\n",
    "all_data = pd.concat([training, test], axis=0, ignore_index=True)\n",
    "\n",
    "all_data['outcome'] = (all_data['metric_locked_percent_first_114_lockable_days_v1']>0.7).astype(int)\n",
    "all_data = all_data.drop(columns=['finance_order_id','metric_locked_percent_first_114_lockable_days_v1'])\n",
    "all_data['weekend'] = all_data['time_day_of_week_v1'].apply(lambda x: x in [5,6,7]).astype(int)\n",
    "\n",
    "#Drop columns that have 90% missing values\n",
    "listNAN = all_data.isna().sum()/all_data.shape[0]\n",
    "listNAN = listNAN[listNAN>0.9999]\n",
    "\n",
    "all_data=all_data.drop(columns=listNAN.index)\n",
    "\n",
    "#Store outcome y y_test and y_train\n",
    "y = all_data['outcome']\n",
    "y_test = y.iloc[training.shape[0]:]\n",
    "y_train_full = y.iloc[:training.shape[0]]"
   ]
  },
  {
   "cell_type": "code",
   "execution_count": 67,
   "metadata": {},
   "outputs": [],
   "source": [
    "features=all_data.columns\n",
    "#Remove 'outcome from features\n",
    "features = features.drop('outcome')"
   ]
  },
  {
   "cell_type": "code",
   "execution_count": 68,
   "metadata": {},
   "outputs": [
    {
     "name": "stdout",
     "output_type": "stream",
     "text": [
      "(50000, 1303)\n"
     ]
    }
   ],
   "source": [
    "#split features into categorical and numerical\n",
    "cat_features = all_data[features].select_dtypes(include=['object']).columns\n",
    "num_features = all_data[features].select_dtypes(exclude=['object']).columns\n",
    "\n",
    "all_data_cat = pd.get_dummies(all_data[cat_features], drop_first = True, dummy_na = True)\n",
    "all_data_num = all_data[num_features]\n",
    "\n",
    "#store only the categorical features in a list\n",
    "all_data_cat.rename(columns={'merchant_state_v1_nuevo león':'merchant_state_v1_nuevoLeon'},inplace=True)\n",
    "all_data_cat['merchant_state_v1_nuevoLeon'] = all_data_cat['merchant_state_v1_nuevoLeon'] + all_data_cat['merchant_state_v1_nuevo leon']\n",
    "all_data_cat = all_data_cat.drop(columns=['merchant_state_v1_nuevo leon'])\n",
    "cat_features = all_data_cat.columns\n",
    "\n",
    "all_data_binned=pd.concat([all_data_num,all_data_cat,y],axis=1)\n",
    "\n",
    "print(all_data_binned.shape)"
   ]
  },
  {
   "cell_type": "code",
   "execution_count": 69,
   "metadata": {},
   "outputs": [],
   "source": [
    "training_processed = all_data_binned.iloc[0:len(training),:]\n",
    "test_processed = all_data_binned.iloc[len(training):len(all_data_binned),:]\n",
    "\n",
    "#separate training_processed and test_processed into training_processed_cat and training_processed_num\n",
    "training_processed_cat = training_processed[cat_features]\n",
    "training_processed_num = training_processed[num_features]\n",
    "\n",
    "test_processed_cat = test_processed[cat_features]\n",
    "test_processed_num = test_processed[num_features]\n"
   ]
  },
  {
   "cell_type": "code",
   "execution_count": 70,
   "metadata": {},
   "outputs": [],
   "source": [
    "#impute missing values in training_processed with mean of the column for numerical features and mode for categorical features using SimpleImputer\n",
    "from sklearn.impute import SimpleImputer\n",
    "imp_num = SimpleImputer(missing_values=np.nan, strategy='mean')\n",
    "imp_cat = SimpleImputer(missing_values=np.nan, strategy='constant', fill_value=0)\n",
    "\n",
    "training_processed_num = imp_num.fit_transform(training_processed_num)\n",
    "test_processed_num = imp_num.transform(test_processed_num)\n",
    "\n",
    "training_processed_cat = imp_cat.fit_transform(training_processed_cat)\n",
    "test_processed_cat = imp_cat.transform(test_processed_cat)"
   ]
  },
  {
   "cell_type": "code",
   "execution_count": 111,
   "metadata": {},
   "outputs": [
    {
     "name": "stdout",
     "output_type": "stream",
     "text": [
      "(25000, 1302)\n",
      "(25000, 1302)\n"
     ]
    }
   ],
   "source": [
    "#convert training_processed_num and test_processed_num to dataframe\n",
    "training_processed_num = pd.DataFrame(training_processed_num, columns=num_features)\n",
    "test_processed_num = pd.DataFrame(test_processed_num, columns=num_features)\n",
    "\n",
    "#convert training_processed_cat and test_processed_cat to dataframe\n",
    "training_processed_cat = pd.DataFrame(training_processed_cat, columns=cat_features)\n",
    "test_processed_cat = pd.DataFrame(test_processed_cat, columns=cat_features)\n",
    "\n",
    "#concatenate training_processed_cat and training_processed_num\n",
    "training_processed = pd.concat([training_processed_num,training_processed_cat], axis = 1)\n",
    "\n",
    "#create test_processed by joining test_processed_cat and test_processed_num\n",
    "test_processed = pd.concat([test_processed_num,test_processed_cat], axis = 1)\n",
    "\n",
    "print(training_processed.shape)\n",
    "print(test_processed.shape)"
   ]
  },
  {
   "cell_type": "code",
   "execution_count": 110,
   "metadata": {},
   "outputs": [],
   "source": [
    "features=all_data_binned.columns\n",
    "#Remove 'outcome from features\n",
    "features = features.drop('outcome')"
   ]
  },
  {
   "cell_type": "code",
   "execution_count": 119,
   "metadata": {},
   "outputs": [],
   "source": [
    "n_mock_training = int(len(training_processed)*0.8)\n",
    "\n",
    "mock_training = training_processed.iloc[0:n_mock_training,:]\n",
    "mock_test = training_processed.iloc[n_mock_training:len(training_processed),:]\n",
    "\n",
    "X_train = mock_training.loc[:,features]\n",
    "y_train = all_data_binned.iloc[0:n_mock_training,-1]\n",
    "\n",
    "X_test = mock_test.loc[:,features]\n",
    "y_test = all_data_binned.iloc[n_mock_training:len(training_processed),-1]"
   ]
  },
  {
   "attachments": {},
   "cell_type": "markdown",
   "metadata": {},
   "source": [
    "**Models**"
   ]
  },
  {
   "cell_type": "code",
   "execution_count": 158,
   "metadata": {},
   "outputs": [
    {
     "name": "stdout",
     "output_type": "stream",
     "text": [
      "AUC of GBM model is 0.6660816577235597 \n",
      "\n"
     ]
    },
    {
     "data": {
      "image/png": "[encoded data removed]",
      "text/plain": [
       "<Figure size 640x480 with 2 Axes>"
      ]
     },
     "metadata": {},
     "output_type": "display_data"
    },
    {
     "data": {
      "text/html": [
       "<div>\n",
       "<style scoped>\n",
       "    .dataframe tbody tr th:only-of-type {\n",
       "        vertical-align: middle;\n",
       "    }\n",
       "\n",
       "    .dataframe tbody tr th {\n",
       "        vertical-align: top;\n",
       "    }\n",
       "\n",
       "    .dataframe thead th {\n",
       "        text-align: right;\n",
       "    }\n",
       "</style>\n",
       "<table border=\"1\" class=\"dataframe\">\n",
       "  <thead>\n",
       "    <tr style=\"text-align: right;\">\n",
       "      <th></th>\n",
       "      <th>Id</th>\n",
       "      <th>Predicted</th>\n",
       "    </tr>\n",
       "  </thead>\n",
       "  <tbody>\n",
       "    <tr>\n",
       "      <th>0</th>\n",
       "      <td>2025000</td>\n",
       "      <td>0.144611</td>\n",
       "    </tr>\n",
       "    <tr>\n",
       "      <th>1</th>\n",
       "      <td>2025001</td>\n",
       "      <td>0.165463</td>\n",
       "    </tr>\n",
       "    <tr>\n",
       "      <th>2</th>\n",
       "      <td>2025002</td>\n",
       "      <td>0.122129</td>\n",
       "    </tr>\n",
       "    <tr>\n",
       "      <th>3</th>\n",
       "      <td>2025003</td>\n",
       "      <td>0.116386</td>\n",
       "    </tr>\n",
       "    <tr>\n",
       "      <th>4</th>\n",
       "      <td>2025004</td>\n",
       "      <td>0.319734</td>\n",
       "    </tr>\n",
       "  </tbody>\n",
       "</table>\n",
       "</div>"
      ],
      "text/plain": [
       "        Id  Predicted\n",
       "0  2025000   0.144611\n",
       "1  2025001   0.165463\n",
       "2  2025002   0.122129\n",
       "3  2025003   0.116386\n",
       "4  2025004   0.319734"
      ]
     },
     "execution_count": 158,
     "metadata": {},
     "output_type": "execute_result"
    }
   ],
   "source": [
    "modelGBM = GradientBoostingClassifier(n_estimators=154) #n_estimators denotes the number of trees that are constructed 155\n",
    "modelGBM.fit(X_train,y_train)\n",
    "\n",
    "validationProbsGBM  = modelGBM.predict_proba(X_test)[:,1]\n",
    "print('AUC of GBM model is',roc_auc_score(y_test, validationProbsGBM),'\\n')\n",
    "\n",
    "probsGBM=modelGBM.predict_proba(test_processed.loc[:,features])[:,1]\n",
    "\n",
    "#plot confusion matrix\n",
    "from sklearn.metrics import confusion_matrix\n",
    "import seaborn as sns\n",
    "import matplotlib.pyplot as plt\n",
    "\n",
    "cm = confusion_matrix(y_test, modelGBM.predict(X_test))\n",
    "sns.heatmap(cm, annot=True, fmt='d')\n",
    "plt.title('Confusion matrix')\n",
    "plt.ylabel('Actual label')\n",
    "plt.xlabel('Predicted label')\n",
    "plt.show()\n",
    "\n",
    "\n",
    "submission = pd.DataFrame(columns = ['Id', 'Predicted'])\n",
    "submission['Id'] = test['finance_order_id'].reset_index(drop=True)  # matching the id's of the test set, valid as long as we never permuted rows of the data\n",
    "submission['Predicted'] = probsGBM\n",
    "submission.to_csv(\"GBMBest.csv\",index = False)\n",
    "submission.head()"
   ]
  },
  {
   "cell_type": "code",
   "execution_count": 159,
   "metadata": {},
   "outputs": [
    {
     "name": "stdout",
     "output_type": "stream",
     "text": [
      "AUC of GBM model is 0.7743776894965603 \n",
      "\n",
      "[0.14377304 0.15885911 0.11732241 ... 0.16826227 0.09580488 0.16734332]\n"
     ]
    },
    {
     "data": {
      "text/html": [
       "<div>\n",
       "<style scoped>\n",
       "    .dataframe tbody tr th:only-of-type {\n",
       "        vertical-align: middle;\n",
       "    }\n",
       "\n",
       "    .dataframe tbody tr th {\n",
       "        vertical-align: top;\n",
       "    }\n",
       "\n",
       "    .dataframe thead th {\n",
       "        text-align: right;\n",
       "    }\n",
       "</style>\n",
       "<table border=\"1\" class=\"dataframe\">\n",
       "  <thead>\n",
       "    <tr style=\"text-align: right;\">\n",
       "      <th></th>\n",
       "      <th>Id</th>\n",
       "      <th>Predicted</th>\n",
       "    </tr>\n",
       "  </thead>\n",
       "  <tbody>\n",
       "    <tr>\n",
       "      <th>0</th>\n",
       "      <td>2025000</td>\n",
       "      <td>0.143773</td>\n",
       "    </tr>\n",
       "    <tr>\n",
       "      <th>1</th>\n",
       "      <td>2025001</td>\n",
       "      <td>0.158859</td>\n",
       "    </tr>\n",
       "    <tr>\n",
       "      <th>2</th>\n",
       "      <td>2025002</td>\n",
       "      <td>0.117322</td>\n",
       "    </tr>\n",
       "    <tr>\n",
       "      <th>3</th>\n",
       "      <td>2025003</td>\n",
       "      <td>0.143889</td>\n",
       "    </tr>\n",
       "    <tr>\n",
       "      <th>4</th>\n",
       "      <td>2025004</td>\n",
       "      <td>0.293123</td>\n",
       "    </tr>\n",
       "  </tbody>\n",
       "</table>\n",
       "</div>"
      ],
      "text/plain": [
       "        Id  Predicted\n",
       "0  2025000   0.143773\n",
       "1  2025001   0.158859\n",
       "2  2025002   0.117322\n",
       "3  2025003   0.143889\n",
       "4  2025004   0.293123"
      ]
     },
     "execution_count": 159,
     "metadata": {},
     "output_type": "execute_result"
    }
   ],
   "source": [
    "modelGBM.fit(training_processed.loc[:,features],y_train_full)\n",
    "\n",
    "validationProbsGBM  = modelGBM.predict_proba(X_test)[:,1]\n",
    "print('AUC of GBM model is',roc_auc_score(y_test, validationProbsGBM),'\\n')\n",
    "\n",
    "probsGBM=modelGBM.predict_proba(test_processed.loc[:,features])[:,1]\n",
    "\n",
    "print(probsGBM)\n",
    "\n",
    "submission = pd.DataFrame(columns = ['Id', 'Predicted'])\n",
    "submission['Id'] = test['finance_order_id'].reset_index(drop=True)  # matching the id's of the test set, valid as long as we never permuted rows of the data\n",
    "submission['Predicted'] = probsGBM\n",
    "submission.to_csv(\"GBMOverfitted.csv\",index = False)\n",
    "submission.head()"
   ]
  },
  {
   "cell_type": "code",
   "execution_count": 151,
   "metadata": {},
   "outputs": [
    {
     "name": "stdout",
     "output_type": "stream",
     "text": [
      "AUC of XGBoost model is 0.6657655340790556 \n",
      "\n"
     ]
    },
    {
     "data": {
      "image/png": "[encoded data removed]",
      "text/plain": [
       "<Figure size 640x480 with 2 Axes>"
      ]
     },
     "metadata": {},
     "output_type": "display_data"
    },
    {
     "data": {
      "text/html": [
       "<div>\n",
       "<style scoped>\n",
       "    .dataframe tbody tr th:only-of-type {\n",
       "        vertical-align: middle;\n",
       "    }\n",
       "\n",
       "    .dataframe tbody tr th {\n",
       "        vertical-align: top;\n",
       "    }\n",
       "\n",
       "    .dataframe thead th {\n",
       "        text-align: right;\n",
       "    }\n",
       "</style>\n",
       "<table border=\"1\" class=\"dataframe\">\n",
       "  <thead>\n",
       "    <tr style=\"text-align: right;\">\n",
       "      <th></th>\n",
       "      <th>Id</th>\n",
       "      <th>Predicted</th>\n",
       "    </tr>\n",
       "  </thead>\n",
       "  <tbody>\n",
       "    <tr>\n",
       "      <th>0</th>\n",
       "      <td>2025000</td>\n",
       "      <td>0.144336</td>\n",
       "    </tr>\n",
       "    <tr>\n",
       "      <th>1</th>\n",
       "      <td>2025001</td>\n",
       "      <td>0.166544</td>\n",
       "    </tr>\n",
       "    <tr>\n",
       "      <th>2</th>\n",
       "      <td>2025002</td>\n",
       "      <td>0.144377</td>\n",
       "    </tr>\n",
       "    <tr>\n",
       "      <th>3</th>\n",
       "      <td>2025003</td>\n",
       "      <td>0.166754</td>\n",
       "    </tr>\n",
       "    <tr>\n",
       "      <th>4</th>\n",
       "      <td>2025004</td>\n",
       "      <td>0.233496</td>\n",
       "    </tr>\n",
       "  </tbody>\n",
       "</table>\n",
       "</div>"
      ],
      "text/plain": [
       "        Id  Predicted\n",
       "0  2025000   0.144336\n",
       "1  2025001   0.166544\n",
       "2  2025002   0.144377\n",
       "3  2025003   0.166754\n",
       "4  2025004   0.233496"
      ]
     },
     "execution_count": 151,
     "metadata": {},
     "output_type": "execute_result"
    }
   ],
   "source": [
    "#XGBoost model\n",
    "import xgboost as xgb\n",
    "from sklearn.metrics import roc_auc_score\n",
    "\n",
    "XGBtraining = xgb.DMatrix(X_train, y_train)\n",
    "XGBvalidation = xgb.DMatrix(X_test, y_test)\n",
    "\n",
    "XGBparam = {'max_depth':6, 'eta': 0.02, 'objective': 'binary:logistic', 'min_child_weight': 1}\n",
    "XGBparam['nthread'] = -1\n",
    "XGBparam['eval_metric'] = 'auc'\n",
    "XGBparam['seed'] = 0\n",
    "XGBparam['colsample_bytree'] = 0.5\n",
    "XGBparam['subsample']=0.5\n",
    "\n",
    "evallist = [(XGBtraining, 'train'), (XGBvalidation, 'eval')]\n",
    "\n",
    "num_round = 214 # This is the number of iterations (trees) that are constructed || 215\n",
    "modelXGB = xgb.train(XGBparam, XGBtraining,num_round)\n",
    "validationProbsXGB = modelXGB.predict(XGBvalidation)\n",
    "\n",
    "print('AUC of XGBoost model is',roc_auc_score(y_test, validationProbsXGB),'\\n')\n",
    "\n",
    "#print confusion matrix\n",
    "from sklearn.metrics import confusion_matrix\n",
    "confusion_matrix(y_test, validationProbsXGB.round())\n",
    "\n",
    "#plot confusion matrix\n",
    "import seaborn as sns\n",
    "import matplotlib.pyplot as plt\n",
    "cm = confusion_matrix(y_test, validationProbsXGB.round())\n",
    "sns.heatmap(cm, annot=True, fmt=\"d\")\n",
    "plt.title('Confusion matrix')\n",
    "plt.ylabel('True label')\n",
    "plt.xlabel('Predicted label')\n",
    "plt.show()\n",
    "\n",
    "\n",
    "probsXGB=modelXGB.predict(xgb.DMatrix(test_processed.loc[:,features]))\n",
    "\n",
    "submission = pd.DataFrame(columns = ['Id', 'Predicted'])\n",
    "submission['Id'] = test['finance_order_id'].reset_index(drop=True)  # matching the id's of the test set, valid as long as we never permuted rows of the data\n",
    "submission['Predicted'] = probsXGB\n",
    "submission.to_csv(\"XGB_Test.csv\",index = False)\n",
    "submission.head()"
   ]
  },
  {
   "cell_type": "code",
   "execution_count": 132,
   "metadata": {},
   "outputs": [
    {
     "name": "stdout",
     "output_type": "stream",
     "text": [
      "AUC of XGBoost model is 0.849214427594814 \n",
      "\n"
     ]
    },
    {
     "data": {
      "text/html": [
       "<div>\n",
       "<style scoped>\n",
       "    .dataframe tbody tr th:only-of-type {\n",
       "        vertical-align: middle;\n",
       "    }\n",
       "\n",
       "    .dataframe tbody tr th {\n",
       "        vertical-align: top;\n",
       "    }\n",
       "\n",
       "    .dataframe thead th {\n",
       "        text-align: right;\n",
       "    }\n",
       "</style>\n",
       "<table border=\"1\" class=\"dataframe\">\n",
       "  <thead>\n",
       "    <tr style=\"text-align: right;\">\n",
       "      <th></th>\n",
       "      <th>Id</th>\n",
       "      <th>Predicted</th>\n",
       "    </tr>\n",
       "  </thead>\n",
       "  <tbody>\n",
       "    <tr>\n",
       "      <th>0</th>\n",
       "      <td>2025000</td>\n",
       "      <td>0.150286</td>\n",
       "    </tr>\n",
       "    <tr>\n",
       "      <th>1</th>\n",
       "      <td>2025001</td>\n",
       "      <td>0.186152</td>\n",
       "    </tr>\n",
       "    <tr>\n",
       "      <th>2</th>\n",
       "      <td>2025002</td>\n",
       "      <td>0.139947</td>\n",
       "    </tr>\n",
       "    <tr>\n",
       "      <th>3</th>\n",
       "      <td>2025003</td>\n",
       "      <td>0.197252</td>\n",
       "    </tr>\n",
       "    <tr>\n",
       "      <th>4</th>\n",
       "      <td>2025004</td>\n",
       "      <td>0.320990</td>\n",
       "    </tr>\n",
       "  </tbody>\n",
       "</table>\n",
       "</div>"
      ],
      "text/plain": [
       "        Id  Predicted\n",
       "0  2025000   0.150286\n",
       "1  2025001   0.186152\n",
       "2  2025002   0.139947\n",
       "3  2025003   0.197252\n",
       "4  2025004   0.320990"
      ]
     },
     "execution_count": 132,
     "metadata": {},
     "output_type": "execute_result"
    }
   ],
   "source": [
    "#XGBoost model\n",
    "import xgboost as xgb\n",
    "from sklearn.metrics import roc_auc_score\n",
    "\n",
    "XGBtraining = xgb.DMatrix(training_processed.loc[:,features], y_train_full)\n",
    "XGBvalidation = xgb.DMatrix(X_test, y_test)\n",
    "\n",
    "XGBparam = {'max_depth':6, 'eta': 0.02, 'objective': 'binary:logistic', 'min_child_weight': 1}\n",
    "XGBparam['nthread'] = -1\n",
    "XGBparam['eval_metric'] = 'auc'\n",
    "XGBparam['seed'] = 0\n",
    "XGBparam['colsample_bytree'] = 0.5\n",
    "XGBparam['subsample']=0.5\n",
    "\n",
    "evallist = [(XGBtraining, 'train'), (XGBvalidation, 'eval')]\n",
    "\n",
    "num_round = 215 # This is the number of iterations (trees) that are constructed\n",
    "modelXGB = xgb.train(XGBparam, XGBtraining,num_round)\n",
    "validationProbsXGB = modelXGB.predict(XGBvalidation)\n",
    "\n",
    "print('AUC of XGBoost model is',roc_auc_score(y_test, validationProbsXGB),'\\n')\n",
    "\n",
    "probsXGB=modelXGB.predict(xgb.DMatrix(test_processed.loc[:,features]))\n",
    "\n",
    "submission = pd.DataFrame(columns = ['Id', 'Predicted'])\n",
    "submission['Id'] = test['finance_order_id'].reset_index(drop=True)  # matching the id's of the test set, valid as long as we never permuted rows of the data\n",
    "submission['Predicted'] = probsXGB\n",
    "submission.to_csv(\"XGB_Test_Overfit3.csv\",index = False)\n",
    "submission.head()\n"
   ]
  },
  {
   "cell_type": "code",
   "execution_count": 156,
   "metadata": {},
   "outputs": [
    {
     "name": "stderr",
     "output_type": "stream",
     "text": [
      "Warning: Overfitting detector is active, thus evaluation metric is calculated on every iteration. 'metric_period' is ignored for evaluation metric.\n"
     ]
    },
    {
     "name": "stdout",
     "output_type": "stream",
     "text": [
      "0:\ttest: 0.5057310\tbest: 0.5057310 (0)\ttotal: 34.8ms\tremaining: 34.8s\n",
      "50:\ttest: 0.6525246\tbest: 0.6533619 (45)\ttotal: 1.87s\tremaining: 34.9s\n",
      "100:\ttest: 0.6572250\tbest: 0.6572250 (100)\ttotal: 3.08s\tremaining: 27.4s\n",
      "150:\ttest: 0.6607347\tbest: 0.6609458 (141)\ttotal: 4.23s\tremaining: 23.8s\n",
      "200:\ttest: 0.6637747\tbest: 0.6639454 (182)\ttotal: 5.43s\tremaining: 21.6s\n",
      "Stopped by overfitting detector  (20 iterations wait)\n",
      "\n",
      "bestTest = 0.666167768\n",
      "bestIteration = 209\n",
      "\n",
      "Shrink model to first 210 iterations.\n",
      "AUC of CatBoost model is 0.6661677679508289 \n",
      "\n"
     ]
    },
    {
     "data": {
      "image/png": "[encoded data removed]",
      "text/plain": [
       "<Figure size 640x480 with 2 Axes>"
      ]
     },
     "metadata": {},
     "output_type": "display_data"
    },
    {
     "data": {
      "text/html": [
       "<div>\n",
       "<style scoped>\n",
       "    .dataframe tbody tr th:only-of-type {\n",
       "        vertical-align: middle;\n",
       "    }\n",
       "\n",
       "    .dataframe tbody tr th {\n",
       "        vertical-align: top;\n",
       "    }\n",
       "\n",
       "    .dataframe thead th {\n",
       "        text-align: right;\n",
       "    }\n",
       "</style>\n",
       "<table border=\"1\" class=\"dataframe\">\n",
       "  <thead>\n",
       "    <tr style=\"text-align: right;\">\n",
       "      <th></th>\n",
       "      <th>Id</th>\n",
       "      <th>Predicted</th>\n",
       "    </tr>\n",
       "  </thead>\n",
       "  <tbody>\n",
       "    <tr>\n",
       "      <th>0</th>\n",
       "      <td>2025000</td>\n",
       "      <td>0.131670</td>\n",
       "    </tr>\n",
       "    <tr>\n",
       "      <th>1</th>\n",
       "      <td>2025001</td>\n",
       "      <td>0.175248</td>\n",
       "    </tr>\n",
       "    <tr>\n",
       "      <th>2</th>\n",
       "      <td>2025002</td>\n",
       "      <td>0.132827</td>\n",
       "    </tr>\n",
       "    <tr>\n",
       "      <th>3</th>\n",
       "      <td>2025003</td>\n",
       "      <td>0.129370</td>\n",
       "    </tr>\n",
       "    <tr>\n",
       "      <th>4</th>\n",
       "      <td>2025004</td>\n",
       "      <td>0.391001</td>\n",
       "    </tr>\n",
       "  </tbody>\n",
       "</table>\n",
       "</div>"
      ],
      "text/plain": [
       "        Id  Predicted\n",
       "0  2025000   0.131670\n",
       "1  2025001   0.175248\n",
       "2  2025002   0.132827\n",
       "3  2025003   0.129370\n",
       "4  2025004   0.391001"
      ]
     },
     "execution_count": 156,
     "metadata": {},
     "output_type": "execute_result"
    }
   ],
   "source": [
    "#Impplement CatBoost\n",
    "from catboost import CatBoostClassifier\n",
    "from sklearn.metrics import roc_auc_score\n",
    "\n",
    "modelCB = CatBoostClassifier(iterations=1000, learning_rate=0.069, depth=6, loss_function='Logloss', eval_metric='AUC', random_seed=32, od_type='Iter', metric_period=50)\n",
    "modelCB.fit(X_train,y_train, eval_set=(X_test, y_test),use_best_model=True, verbose=True)\n",
    "\n",
    "#predict on test set\n",
    "probsCB=modelCB.predict_proba(test_processed.loc[:,features])[:,1]\n",
    "\n",
    "#Print Model AUC\n",
    "print('AUC of CatBoost model is',roc_auc_score(y_test, modelCB.predict_proba(X_test)[:,1]),'\\n')\n",
    "\n",
    "#print confusion matrix\n",
    "from sklearn.metrics import confusion_matrix\n",
    "confusion_matrix(y_test, modelCB.predict_proba(X_test)[:,1].round())\n",
    "\n",
    "#plot confusion matrix\n",
    "import seaborn as sns\n",
    "import matplotlib.pyplot as plt\n",
    "cm = confusion_matrix(y_test, modelCB.predict_proba(X_test)[:,1].round())\n",
    "sns.heatmap(cm, annot=True, fmt=\"d\")\n",
    "plt.title('Confusion matrix')\n",
    "plt.ylabel('True label')\n",
    "plt.xlabel('Predicted label')\n",
    "plt.show()\n",
    "\n",
    "\n",
    "submission = pd.DataFrame(columns = ['Id', 'Predicted'])\n",
    "submission['Id'] = test['finance_order_id'].reset_index(drop=True)  # matching the id's of the test set, valid as long as we never permuted rows of the data\n",
    "submission['Predicted'] = probsCB\n",
    "submission.to_csv(\"CatBoostTest.csv\",index = False)\n",
    "submission.head()"
   ]
  },
  {
   "cell_type": "code",
   "execution_count": 135,
   "metadata": {},
   "outputs": [
    {
     "name": "stderr",
     "output_type": "stream",
     "text": [
      "You should provide test set for use best model. use_best_model parameter has been switched to false value.\n"
     ]
    },
    {
     "name": "stdout",
     "output_type": "stream",
     "text": [
      "0:\ttotal: 40.8ms\tremaining: 8.53s\n",
      "50:\ttotal: 1.42s\tremaining: 4.43s\n",
      "100:\ttotal: 2.7s\tremaining: 2.91s\n",
      "150:\ttotal: 3.91s\tremaining: 1.53s\n",
      "200:\ttotal: 5.18s\tremaining: 232ms\n",
      "209:\ttotal: 5.39s\tremaining: 0us\n",
      "AUC of CatBoost model is 0.788981288981289 \n",
      "\n"
     ]
    },
    {
     "data": {
      "text/html": [
       "<div>\n",
       "<style scoped>\n",
       "    .dataframe tbody tr th:only-of-type {\n",
       "        vertical-align: middle;\n",
       "    }\n",
       "\n",
       "    .dataframe tbody tr th {\n",
       "        vertical-align: top;\n",
       "    }\n",
       "\n",
       "    .dataframe thead th {\n",
       "        text-align: right;\n",
       "    }\n",
       "</style>\n",
       "<table border=\"1\" class=\"dataframe\">\n",
       "  <thead>\n",
       "    <tr style=\"text-align: right;\">\n",
       "      <th></th>\n",
       "      <th>Id</th>\n",
       "      <th>Predicted</th>\n",
       "    </tr>\n",
       "  </thead>\n",
       "  <tbody>\n",
       "    <tr>\n",
       "      <th>0</th>\n",
       "      <td>2025000</td>\n",
       "      <td>0.131905</td>\n",
       "    </tr>\n",
       "    <tr>\n",
       "      <th>1</th>\n",
       "      <td>2025001</td>\n",
       "      <td>0.189939</td>\n",
       "    </tr>\n",
       "    <tr>\n",
       "      <th>2</th>\n",
       "      <td>2025002</td>\n",
       "      <td>0.125842</td>\n",
       "    </tr>\n",
       "    <tr>\n",
       "      <th>3</th>\n",
       "      <td>2025003</td>\n",
       "      <td>0.115955</td>\n",
       "    </tr>\n",
       "    <tr>\n",
       "      <th>4</th>\n",
       "      <td>2025004</td>\n",
       "      <td>0.280726</td>\n",
       "    </tr>\n",
       "  </tbody>\n",
       "</table>\n",
       "</div>"
      ],
      "text/plain": [
       "        Id  Predicted\n",
       "0  2025000   0.131905\n",
       "1  2025001   0.189939\n",
       "2  2025002   0.125842\n",
       "3  2025003   0.115955\n",
       "4  2025004   0.280726"
      ]
     },
     "execution_count": 135,
     "metadata": {},
     "output_type": "execute_result"
    }
   ],
   "source": [
    "modelCB = CatBoostClassifier(iterations=210, learning_rate=0.069, depth=6, loss_function='Logloss', eval_metric='AUC', random_seed=32, od_type='Iter', metric_period=50, one_hot_max_size=20)\n",
    "modelCB.fit(training_processed.loc[:,features],y_train_full,use_best_model=True, verbose=True)\n",
    "\n",
    "\n",
    "#predict on test set\n",
    "probsCB=modelCB.predict_proba(test_processed.loc[:,features])[:,1]\n",
    "\n",
    "#Print Model AUC\n",
    "print('\\nAUC of CatBoost model is',roc_auc_score(y_test, modelCB.predict_proba(X_test)[:,1]),'\\n')\n",
    "\n",
    "submission = pd.DataFrame(columns = ['Id', 'Predicted'])\n",
    "submission['Id'] = test['finance_order_id'].reset_index(drop=True)  # matching the id's of the test set, valid as long as we never permuted rows of the data\n",
    "submission['Predicted'] = probsCB\n",
    "submission.to_csv(\"CBOverfit2.csv\",index = False)\n",
    "submission.head()"
   ]
  }
 ],
 "metadata": {
  "kernelspec": {
   "display_name": "cv",
   "language": "python",
   "name": "python3"
  },
  "language_info": {
   "codemirror_mode": {
    "name": "ipython",
    "version": 3
   },
   "file_extension": ".py",
   "mimetype": "text/x-python",
   "name": "python",
   "nbconvert_exporter": "python",
   "pygments_lexer": "ipython3",
   "version": "3.10.9"
  },
  "orig_nbformat": 4,
  "vscode": {
   "interpreter": {
    "hash": "c9332f0cd5ea1718a0cb92d7b15669280b33f0223a58b9e972ad8288db5a547f"
   }
  }
 },
 "nbformat": 4,
 "nbformat_minor": 2
}
